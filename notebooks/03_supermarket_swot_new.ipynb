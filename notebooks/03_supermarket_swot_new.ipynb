{
 "cells": [
  {
   "cell_type": "markdown",
   "id": "21c7a9b2",
   "metadata": {
    "slideshow": {
     "slide_type": "slide"
    }
   },
   "source": [
    "Front Page"
   ]
  },
  {
   "cell_type": "markdown",
   "id": "bf09d856",
   "metadata": {
    "slideshow": {
     "slide_type": "slide"
    }
   },
   "source": [
    "# Report Index 📊\n",
    "\n",
    "1. **Executive Summary** 📝  \n",
    "   _Key findings and recommendations._\n",
    "\n",
    "\n",
    "2. **Dataset Overview** 📋  \n",
    "   _Summary of data sources, time period, and key variables._\n",
    "\n",
    "\n",
    "3. **Introduction to Exploratory Data Analysis (EDA)** 🔍  \n",
    "   _Key steps of the EDA process._\n",
    "\n",
    "\n",
    "4. **SWOT Analysis** 🧠  \n",
    "   _Analysis of **Strengths**, **Weaknesses**, **Opportunities**, and **Threats** based on insights from EDA._\n",
    "\n",
    "\n",
    "5. **Recommendations** 💡  \n",
    "   _Actionable recommendations for business improvement based on EDA and SWOT analysis._\n",
    "\n",
    "\n",
    "6. **Next Steps** 🚀  \n",
    "   _Suggested actions for deeper analysis to explore emerging opportunities._"
   ]
  },
  {
   "cell_type": "markdown",
   "id": "a9fdc455",
   "metadata": {
    "slideshow": {
     "slide_type": "slide"
    }
   },
   "source": [
    "Executive Summary"
   ]
  },
  {
   "cell_type": "markdown",
   "id": "3182cfbe",
   "metadata": {
    "slideshow": {
     "slide_type": "slide"
    }
   },
   "source": [
    "### Dataset Overview\n",
    "\n",
    "The dataset used for this analysis contains **sales transactions** and related **customer**, **geography**, and **product details** from **2014 to 2017**, with a total of **9,994 records**.  \n",
    "\n",
    "Key variables include:\n",
    "\n",
    "- **Profit**, **Sales** and **Discount**: Financial metrics.\n",
    "- **Product Category**, **Sub-Category** and **Product Name**: Classification of products.\n",
    "- **Customer Segment** and **Customer Name**: Customer types.\n",
    "- **Geographical Data**: Information on **Region**, **State**, **City**, and **Postal Code**.\n",
    "- **Order and Transaction Information**: Includes **Order ID**, **Order Date** and **Quantity** sold.\n",
    "\n",
    "This dataset provides a comprehensive view of the company's operations over a four-year period, enabling the analysis of various factors that influence profitability, product mix and regional performance."
   ]
  },
  {
   "cell_type": "markdown",
   "id": "4070838e",
   "metadata": {
    "slideshow": {
     "slide_type": "slide"
    }
   },
   "source": [
    "### Exploratory Data Analysis (EDA) Overview\n",
    "\n",
    "In this report, we present the findings of an in-depth Exploratory Data Analysis (EDA) performed on the dataset using Python. The primary goal of this analysis is to uncover valuable insights regarding the factors influencing profitability, while identifying areas for potential improvement and growth.  \n",
    "\n",
    "The main steps included:\n",
    "\n",
    "- **Data Quality Assessment and Cleaning**: Established a solid foundation for analysis by identifying and resolving data inconsistencies.  \n",
    "\n",
    "- **New Metrics Creation**: Calculated key financial metrics like **List Price**, **Net Price**, **COGS**, and **Gross Margin**, to provide deeper insights.  \n",
    "\n",
    "- **Descriptive Statistics & Correlation**: Analyzed **Profit** distribution and correlations with numerical variables to identify **key drivers** of profitability.  \n",
    "\n",
    "- **Categorical Analysis**: Explored relationships between **Profit** and dimensions like **Customer**, **Product** and **Geography**, including annual trends.  \n",
    "\n",
    "- **Hypothesis Testing**: Assessed regional **pricing and discount strategies** to identify significant variations across states.  \n",
    "\n",
    "- **Profit Classification & Clustering**: Classified **Profit** levels (Low, Medium, High) and used dimensionality reduction and **clustering algorithm** to identify clusters within low-profit segment.  \n",
    "\n",
    "These findings provide a deeper understanding of the company's strengths and challenges, which we will now explore through a **SWOT analysis**."
   ]
  },
  {
   "cell_type": "markdown",
   "id": "a00a8265",
   "metadata": {
    "slideshow": {
     "slide_type": "slide"
    }
   },
   "source": [
    "### SWOT Analysis\n",
    "  \n",
    "  \n",
    "  \n",
    "<img src=\"https://github.com/Kristinawk/final_project_ETL_Analytics/blob/main/notebooks/support_doc/swot2.PNG?raw=true\" width=1200 align=\"Left\">"
   ]
  },
  {
   "cell_type": "code",
   "execution_count": 55,
   "id": "504aefef",
   "metadata": {
    "slideshow": {
     "slide_type": "skip"
    }
   },
   "outputs": [],
   "source": [
    "# Imports\n",
    "\n",
    "import pandas as pd\n",
    "import numpy as np\n",
    "\n",
    "import scipy.stats as stats\n",
    "from scipy.stats import trim_mean\n",
    "from statsmodels import robust\n",
    "import wquantiles\n",
    "\n",
    "import seaborn as sns\n",
    "import matplotlib.pylab as plt\n",
    "from matplotlib.ticker import FuncFormatter\n",
    "\n",
    "import umap\n",
    "from sklearn.preprocessing import LabelEncoder\n",
    "from sklearn.preprocessing import StandardScaler\n",
    "from sklearn.cluster import DBSCAN\n",
    "\n",
    "import textwrap\n",
    "\n",
    "pd.set_option('display.max_columns', None)"
   ]
  },
  {
   "cell_type": "code",
   "execution_count": 3,
   "id": "d8ee395e",
   "metadata": {
    "slideshow": {
     "slide_type": "skip"
    }
   },
   "outputs": [],
   "source": [
    "# Pre-processed dataset\n",
    "\n",
    "df = pd.read_csv('../data/Superstore_250307.csv')"
   ]
  },
  {
   "cell_type": "code",
   "execution_count": 4,
   "id": "33de2a84",
   "metadata": {
    "slideshow": {
     "slide_type": "skip"
    }
   },
   "outputs": [
    {
     "name": "stdout",
     "output_type": "stream",
     "text": [
      "90% of Profit distribution is between -53 and 168 dollars\n"
     ]
    }
   ],
   "source": [
    "# Profit distribution\n",
    "\n",
    "per_05 = df['Profit'].quantile(0.05)\n",
    "per_95 = df['Profit'].quantile(0.95)\n",
    "\n",
    "print(f'90% of Profit distribution is between {int(per_05)} and {int(per_95)} dollars')"
   ]
  },
  {
   "cell_type": "code",
   "execution_count": 36,
   "id": "05e6dd9e",
   "metadata": {
    "slideshow": {
     "slide_type": "skip"
    }
   },
   "outputs": [
    {
     "data": {
      "text/plain": [
       "Text(0.35, -0.1, '(*) Profit data excludes extreme outliers.')"
      ]
     },
     "execution_count": 36,
     "metadata": {},
     "output_type": "execute_result"
    }
   ],
   "source": [
    "# Profit Histogram\n",
    "\n",
    "plt.ioff()\n",
    "\n",
    "data = df['Profit']\n",
    "\n",
    "# Create figure and axis\n",
    "\n",
    "ax = data.plot.hist(bins=15, range=(per_05, per_95), figsize=(10, 6))\n",
    "ax.set_xlabel('Profit')\n",
    "ax.set_title('Histogram of Profit per order item*')\n",
    "\n",
    "# Add footnote\n",
    "\n",
    "plt.text(0.35, -0.1, '(*) Profit data excludes extreme outliers.', \n",
    "         ha='right', va='top', transform=ax.transAxes, fontsize=10, color='gray')"
   ]
  },
  {
   "cell_type": "markdown",
   "id": "4d0e2c64",
   "metadata": {
    "slideshow": {
     "slide_type": "slide"
    }
   },
   "source": [
    "### Introduction to SWOT\n",
    "\n",
    "**INSIGHTS** 💡\n",
    "\n",
    "The Exploratory Data Analysis was performed to identify key drivers and trends in profit.\n",
    "- The average profit per order item is **28,66 \\$**, with a standard deviation of **234,26 \\$**.\n",
    "- **90%** of item profits fall within the range of **-53 \\$** **to 168 \\$**.\n",
    "- However, there are a few outliers, with profits ranging from **-6.600 \\$** **to 8.400 \\$**."
   ]
  },
  {
   "cell_type": "code",
   "execution_count": 37,
   "id": "0849fc4b",
   "metadata": {
    "slideshow": {
     "slide_type": "fragment"
    }
   },
   "outputs": [
    {
     "data": {
      "image/png": "[encoded data removed]",
      "text/plain": [
       "<Figure size 1000x600 with 1 Axes>"
      ]
     },
     "metadata": {},
     "output_type": "display_data"
    }
   ],
   "source": [
    "plt.ion()\n",
    "plt.show()"
   ]
  },
  {
   "cell_type": "code",
   "execution_count": 66,
   "id": "cf5493b7",
   "metadata": {
    "slideshow": {
     "slide_type": "skip"
    }
   },
   "outputs": [],
   "source": [
    "# Share of items with negative profit\n",
    "\n",
    "# Create two sub-sets\n",
    "\n",
    "profit_neg = df[df['Profit'] < 0 ]\n",
    "profit_pos = df[df['Profit'] >= 0 ]\n",
    "\n",
    "# Group by year\n",
    "\n",
    "profit_neg = profit_neg.groupby('Order Year')['Row ID'].count().reset_index(name='Negative Profit')\n",
    "profit_pos = profit_pos.groupby('Order Year')['Row ID'].count().reset_index(name='Positive Profit')\n",
    "\n",
    "# Calculate the share of items with negative profit\n",
    "\n",
    "result = pd.merge(profit_neg, profit_pos, on='Order Year')\n",
    "result['Negative profit share'] = (result['Negative Profit'] / (result['Negative Profit'] + result['Positive Profit']))\n",
    "\n",
    "result.drop(['Negative Profit', 'Positive Profit'], axis=1, inplace=True)"
   ]
  },
  {
   "cell_type": "code",
   "execution_count": 67,
   "id": "d7d94813",
   "metadata": {},
   "outputs": [],
   "source": [
    "# Profit annual trend\n",
    "\n",
    "profit_yr = df.groupby('Order Year')['Profit'].sum().reset_index(name='Total Profit')\n",
    "\n",
    "data = pd.merge(result, profit_yr, on='Order Year')"
   ]
  },
  {
   "cell_type": "code",
   "execution_count": 68,
   "id": "c1374c3d",
   "metadata": {
    "slideshow": {
     "slide_type": "skip"
    }
   },
   "outputs": [
    {
     "data": {
      "text/plain": [
       "<matplotlib.legend.Legend at 0x1ee7c2e1ca0>"
      ]
     },
     "execution_count": 68,
     "metadata": {},
     "output_type": "execute_result"
    }
   ],
   "source": [
    "# Profit evolution bar plot\n",
    "\n",
    "plt.ioff()\n",
    "\n",
    "# Create figure and axis\n",
    "fig, ax1 = plt.subplots(figsize=(10, 6))\n",
    "\n",
    "# Plot the bar chart for Total Profit on the primary y-axis\n",
    "ax1.bar(data['Order Year'], data['Total Profit'], color='tab:blue', label='Total Profit')\n",
    "ax1.set_xlabel('Order Year')\n",
    "ax1.set_ylabel('Total Profit')\n",
    "ax1.yaxis.set_major_formatter(plt.FuncFormatter(lambda x, _: f'{x / 1000:.0f}k')) # set format to thousands\n",
    "ax1.set_xticks(data['Order Year'].unique())\n",
    "\n",
    "# Create secondary y-axis\n",
    "ax2 = ax1.twinx()\n",
    "# Plot the line chart for Negative Profit Share on the secondary y-axis\n",
    "ax2.plot(data['Order Year'], data['Negative profit share'], color='tab:red', marker='o', label='Negative Profit Share')\n",
    "ax2.set_ylabel('Items share with (-) Profit')\n",
    "ax2.set_ylim(0, 0.50)\n",
    "ax2.yaxis.set_major_formatter(plt.FuncFormatter(lambda y, _: f'{y*100:.0f}%')) # set format to percentage\n",
    "\n",
    "# Set title\n",
    "plt.title('Total Profit & Negative Profit Share by Year')\n",
    "\n",
    "# Show the legend\n",
    "fig.tight_layout()  # Adjust layout to make room for both y-axes\n",
    "fig.legend(loc='upper left', bbox_to_anchor=(0.1, 0.9))"
   ]
  },
  {
   "cell_type": "markdown",
   "id": "b3f1d305",
   "metadata": {
    "slideshow": {
     "slide_type": "subslide"
    }
   },
   "source": [
    "### Introduction to SWOT\n",
    "\n",
    "**INSIGHTS** 💡\n",
    "\n",
    "The total profit exhibits a **positive annual trend**, while the proportion of order items with negative profit remains consistently stable at **18%**."
   ]
  },
  {
   "cell_type": "code",
   "execution_count": 69,
   "id": "49117d85",
   "metadata": {
    "slideshow": {
     "slide_type": "fragment"
    }
   },
   "outputs": [
    {
     "data": {
      "image/png": "[encoded data removed]",
      "text/plain": [
       "<Figure size 1000x600 with 2 Axes>"
      ]
     },
     "metadata": {},
     "output_type": "display_data"
    }
   ],
   "source": [
    "plt.ion()\n",
    "plt.show()"
   ]
  },
  {
   "cell_type": "code",
   "execution_count": null,
   "id": "a4362921",
   "metadata": {},
   "outputs": [],
   "source": []
  },
  {
   "cell_type": "code",
   "execution_count": null,
   "id": "1f0a8da1",
   "metadata": {},
   "outputs": [],
   "source": []
  },
  {
   "cell_type": "markdown",
   "id": "f1f85854",
   "metadata": {},
   "source": [
    "### Profit analysis"
   ]
  },
  {
   "cell_type": "code",
   "execution_count": null,
   "id": "65e1a706",
   "metadata": {},
   "outputs": [],
   "source": [
    "# Boxplot\n",
    "\n",
    "data = df['Profit']\n",
    "\n",
    "ax = data.plot.box(figsize=(3, 5))\n",
    "ax.set_ylabel('Profit')\n",
    "plt.grid()"
   ]
  },
  {
   "cell_type": "code",
   "execution_count": null,
   "id": "4eae06cd",
   "metadata": {},
   "outputs": [],
   "source": [
    "# Range\n",
    "\n",
    "rng = df['Profit'].max() - df['Profit'].min()\n",
    "print(f'Profit Range is: {rng}')"
   ]
  },
  {
   "cell_type": "code",
   "execution_count": null,
   "id": "bdde13a7",
   "metadata": {},
   "outputs": [],
   "source": [
    "# Distribution\n",
    "\n",
    "per_05 = df['Profit'].quantile(0.05)\n",
    "per_95 = df['Profit'].quantile(0.95)\n",
    "\n",
    "print(f'90% of Profit distribution is between {int(per_05)} and {int(per_95)} dollars')"
   ]
  },
  {
   "cell_type": "markdown",
   "id": "5bd18671",
   "metadata": {},
   "source": [
    "**INSIGHT**: profit has high variability. The mean is 28,66 dollars, but the range is 15.000 dollars. 80% of Profit is distributed between -53 and 168 dollars."
   ]
  },
  {
   "cell_type": "markdown",
   "id": "a24cba40",
   "metadata": {},
   "source": [
    "We need to understand the reasons of negative profit and how this can be improved. Let's see how this evolved year to year."
   ]
  },
  {
   "cell_type": "code",
   "execution_count": null,
   "id": "dce08ff2",
   "metadata": {},
   "outputs": [],
   "source": [
    "# Creating two sub-sets\n",
    "\n",
    "profit_neg = df[df['Profit'] < 0 ]\n",
    "profit_pos = df[df['Profit'] >= 0 ]\n",
    "\n",
    "# Grouping by year\n",
    "\n",
    "profit_neg = profit_neg.groupby('Order Year').agg(\n",
    "    profit_neg_sum=('Profit', 'sum'),\n",
    "    quantity_neg_sum=('Quantity', 'sum'))\n",
    "    \n",
    "profit_pos = profit_pos.groupby('Order Year').agg(\n",
    "    profit_pos_sum=('Profit', 'sum'),\n",
    "    quantity_pos_sum=('Quantity', 'sum'))\n",
    "\n",
    "\n",
    "# Calculating the share of pieces sold with negative profit\n",
    "\n",
    "result = pd.merge(profit_neg, profit_pos, on='Order Year')\n",
    "result['neg_profit_share'] = (result['quantity_neg_sum'] / (result['quantity_neg_sum'] + result['quantity_pos_sum'])) * 100\n",
    "\n",
    "result"
   ]
  },
  {
   "cell_type": "markdown",
   "id": "2d76458b",
   "metadata": {},
   "source": [
    "Conclusion: it seems that the share of pieces sold with negative profit is nearly stable: 18%."
   ]
  },
  {
   "cell_type": "markdown",
   "id": "0157c027",
   "metadata": {},
   "source": [
    "### Profit vs Numerical Variables"
   ]
  },
  {
   "cell_type": "code",
   "execution_count": null,
   "id": "9d5604ed",
   "metadata": {},
   "outputs": [],
   "source": [
    "num_vars = list(df.describe().columns)\n",
    "cat_vars = [col for col in df.columns if col not in num_vars]"
   ]
  },
  {
   "cell_type": "code",
   "execution_count": null,
   "id": "3c5c7ff6",
   "metadata": {},
   "outputs": [],
   "source": [
    "df_num_vars = df[num_vars]"
   ]
  },
  {
   "cell_type": "code",
   "execution_count": null,
   "id": "e13ddb37",
   "metadata": {},
   "outputs": [],
   "source": [
    "# Correlation Matix:\n",
    "\n",
    "fig, ax = plt.subplots(figsize=(10, 10))\n",
    "ax = sns.heatmap(df_num_vars.corr(),\n",
    "                 vmin=-1,\n",
    "                 vmax=1,\n",
    "                 cmap=sns.diverging_palette(20, 220, as_cmap=True),\n",
    "                 annot=True,\n",
    "                 fmt=\".2f\",\n",
    "                 ax=ax)\n",
    "plt.tight_layout()"
   ]
  },
  {
   "cell_type": "markdown",
   "id": "424c844f",
   "metadata": {},
   "source": [
    "**INSIGHTS**:\n",
    "- The variables that are most related to Profit are List Price, Net Price and Sales (positive impact), and Discounts (negative impact)\n",
    "- Surprisingly the Quantity has low correlation with Profit. This might be explained by the fact that Quantity and Price have no correlation. In terms of customer bahaviour, this means that no matter how expensive the product is, the customer will always buy the same number of pieces (Note: during preliminary ETL we already noticed that this dataset might be syntethic).\n",
    "- The Quantity is neither explained by the discounts, meaning that discounts are not boosting sales. By contrary, discounts decrease the profit. This is meaningful for discount strategy of the supermarket"
   ]
  },
  {
   "cell_type": "code",
   "execution_count": null,
   "id": "e069ef46",
   "metadata": {},
   "outputs": [],
   "source": [
    "# Scatter plot - Profit vs Sales:\n",
    "\n",
    "plt.figure(figsize=(12, 6))\n",
    "sns.scatterplot(data=df, y='Profit', x='Sales', size='Discount',\n",
    "               sizes=(20, 120), edgecolor='black', linewidth=0.4, alpha=0.7)\n",
    "\n",
    "plt.title('Scatter plot of Profit vs Sales')\n",
    "plt.xlabel('Sales')\n",
    "plt.ylabel('Profit')\n",
    "\n",
    "plt.grid(True, linestyle='--', alpha=0.5) "
   ]
  },
  {
   "cell_type": "markdown",
   "id": "1b19f71b",
   "metadata": {},
   "source": [
    "Conclusion: this confirms what we have seen in correlation matrix. Profit is positively related to Sales, but most sales with high discount have negative profit."
   ]
  },
  {
   "cell_type": "code",
   "execution_count": null,
   "id": "c7e05915",
   "metadata": {},
   "outputs": [],
   "source": [
    "# Scatter plot - Profit vs Discount:\n",
    "\n",
    "plt.figure(figsize=(12, 6))\n",
    "sns.scatterplot(data=df, y='Profit', x='Discount', size='Sales',\n",
    "               sizes=(20, 120), edgecolor='black', linewidth=0.4, alpha=0.7)\n",
    "\n",
    "plt.title('Scatter plot of Profit vs Discount')\n",
    "plt.xlabel('Discount')\n",
    "plt.ylabel('Profit')\n",
    "\n",
    "plt.grid(True, linestyle='--', alpha=0.5) "
   ]
  },
  {
   "cell_type": "markdown",
   "id": "7ff5832f",
   "metadata": {},
   "source": [
    "**INSIGHTS**: Above 40% of discount the profit is always negative. So, unless the discount is motivated by stock cleaning  need, the company should consider giving maximum discount of 40% (or less)."
   ]
  },
  {
   "cell_type": "code",
   "execution_count": null,
   "id": "6d1dcdbd",
   "metadata": {},
   "outputs": [],
   "source": [
    "# Plot KDE for Discount\n",
    "\n",
    "plt.figure(figsize=(12, 6))\n",
    "sns.kdeplot(data=df, x='Discount', label='Discount', fill=True)\n",
    "\n",
    "plt.title('Distribution of Discounts and Sales')\n",
    "plt.xlabel('Discount %')\n",
    "plt.xticks(np.arange(0, 1, step=0.1))\n",
    "plt.ylabel('Density')\n",
    "plt.legend()\n",
    "plt.tight_layout()"
   ]
  },
  {
   "cell_type": "markdown",
   "id": "54d38344",
   "metadata": {},
   "source": [
    "Conclusion: this ilustrates more precisely that most of the sales are generated with discounts of 0% and 20%."
   ]
  },
  {
   "cell_type": "code",
   "execution_count": null,
   "id": "8987866a",
   "metadata": {},
   "outputs": [],
   "source": [
    "# Evolution over time:\n",
    "\n",
    "profit_year = df.groupby('Order Year').agg(\n",
    "    profit=('Profit', 'sum'),\n",
    "    list_price=('List Price', 'mean'),\n",
    "    discount=('Discount', 'mean'),\n",
    "    sales=('Sales', 'sum'),\n",
    "    quantity=('Quantity', 'sum'),\n",
    "    num_products=('Product PK', 'count'),\n",
    "    num_branches=('Postal Code', 'count'),\n",
    "    cogs=('COGS', 'mean'),\n",
    ")\n",
    "\n",
    "profit_year['gross_margin'] = profit_year['profit'] / profit_year['sales']\n",
    "\n",
    "profit_year"
   ]
  },
  {
   "cell_type": "markdown",
   "id": "9b8a92d8",
   "metadata": {},
   "source": [
    "**INSIGHTS**:\n",
    "- Profit increased year over year\n",
    "- Average discount is stable (15%)\n",
    "- Sales increased in the last two years, but not in 2015. That might be because of lower average List Price that year compared to the previous.\n",
    "- Gross Margin increased in 2015 and 2016, but decreased in 2017"
   ]
  },
  {
   "cell_type": "markdown",
   "id": "955efca7",
   "metadata": {},
   "source": [
    "### Profit vs Categorical Variables"
   ]
  },
  {
   "cell_type": "code",
   "execution_count": null,
   "id": "1c6e47e3",
   "metadata": {},
   "outputs": [],
   "source": [
    "# Customer Segment\n",
    "\n",
    "df_segment = df.groupby('Segment').agg(\n",
    "    profit_sum=('Profit', 'sum'),\n",
    "    profit_mean=('Profit', 'mean'),\n",
    "    discount_mean=('Discount', 'mean'),\n",
    "    sales_sum=('Sales', 'sum'),\n",
    "    quantity_sum=('Quantity', 'sum'),\n",
    ").reset_index()\n",
    "\n",
    "df_segment['profit_sum'] = df_segment['profit_sum']/1000\n",
    "df_segment['sales_sum'] = df_segment['sales_sum']/1000\n",
    "df_segment['quantity_sum'] = df_segment['quantity_sum']/1000\n",
    "df_segment['gross_margin'] = df_segment['profit_sum'] / df_segment['sales_sum']\n",
    "    \n",
    "df_segment"
   ]
  },
  {
   "cell_type": "code",
   "execution_count": null,
   "id": "378b5da2",
   "metadata": {},
   "outputs": [],
   "source": [
    "plt.figure(figsize=(3, 3))\n",
    "\n",
    "plt.pie(df_segment['profit_sum'], labels=df_segment['Segment'], autopct='%1.1f%%', startangle=140, wedgeprops={'edgecolor': 'black'})\n",
    "\n",
    "plt.axis('equal')\n",
    "plt.title('Pie Chart Profit by Segment')\n",
    "plt.tight_layout()"
   ]
  },
  {
   "cell_type": "markdown",
   "id": "b9b8a9c1",
   "metadata": {},
   "source": [
    "**INSIGHTS:** Consumer segment delivers the biggest share of Profit, but it also has the lowest Gross Margin."
   ]
  },
  {
   "cell_type": "code",
   "execution_count": null,
   "id": "d0bb099e",
   "metadata": {},
   "outputs": [],
   "source": [
    "# Segment evolution by year:\n",
    "\n",
    "eval_feature = 'Profit'\n",
    "\n",
    "df_segment_year = df.groupby(['Segment', 'Order Year'])[eval_feature].sum().reset_index()\n",
    "\n",
    "segments = df_segment_year['Segment'].unique()\n",
    "\n",
    "# Create subplots (one for each segment)\n",
    "fig, axes = plt.subplots(nrows=1, ncols=len(segments), figsize=(13, 3))\n",
    "\n",
    "# Loop through each segment and plot its respective bar chart\n",
    "for ax, segment in zip(axes, segments):\n",
    "\n",
    "    segment_data = df_segment_year[df_segment_year['Segment'] == segment]\n",
    "    \n",
    "    sns.barplot(data=segment_data, x='Order Year', y=eval_feature, ax=ax)\n",
    "    \n",
    "    ax.set_title(f'{eval_feature} by Year for Segment {segment}')\n",
    "    ax.set_xlabel('Year')\n",
    "    ax.set_ylabel(eval_feature)\n",
    "\n",
    "plt.tight_layout()"
   ]
  },
  {
   "cell_type": "markdown",
   "id": "eea22e91",
   "metadata": {},
   "source": [
    "Conclusion: Profit increased in all segments year over year, except for Corporate, where total profit decreased in 2017.\n",
    "\n",
    "**To does:** see why?"
   ]
  },
  {
   "cell_type": "code",
   "execution_count": null,
   "id": "c3687eca",
   "metadata": {},
   "outputs": [],
   "source": [
    "# Product Category\n",
    "\n",
    "df_category = df.groupby('Category').agg(\n",
    "    profit_sum=('Profit', 'sum'),\n",
    "    profit_mean=('Profit', 'mean'),\n",
    "    discount_mean=('Discount', 'mean'),\n",
    "    sales_sum=('Sales', 'sum'),\n",
    "    quantity_sum=('Quantity', 'sum'),\n",
    ").reset_index()\n",
    "\n",
    "df_category['profit_sum'] = df_category['profit_sum']/1000\n",
    "df_category['sales_sum'] = df_category['sales_sum']/1000\n",
    "df_category['quantity_sum'] = df_category['quantity_sum']/1000\n",
    "df_category['gross_margin'] = df_category['profit_sum'] / df_category['sales_sum']\n",
    "    \n",
    "df_category"
   ]
  },
  {
   "cell_type": "code",
   "execution_count": null,
   "id": "bd541c30",
   "metadata": {},
   "outputs": [],
   "source": [
    "plt.figure(figsize=(3, 3))\n",
    "\n",
    "plt.pie(df_category['profit_sum'], labels=df_category['Category'], autopct='%1.1f%%', startangle=140, wedgeprops={'edgecolor': 'black'})\n",
    "\n",
    "plt.axis('equal')\n",
    "plt.title('Pie Chart Profit by Category')\n",
    "plt.tight_layout()"
   ]
  },
  {
   "cell_type": "markdown",
   "id": "b12d4a20",
   "metadata": {},
   "source": [
    "**INSIGHTS:**\n",
    "- The most profitable product category is Technology. With Gross Margin of 17.4%, it represents half of the total Profit\n",
    "- Furniture has very low Gross Margin (only 2.5%). This is something to improve.\n",
    "\n",
    "**To does:** analyse why GM for Furniture is so low"
   ]
  },
  {
   "cell_type": "code",
   "execution_count": null,
   "id": "bd940176",
   "metadata": {},
   "outputs": [],
   "source": [
    "# Category evolution by year:\n",
    "\n",
    "eval_feature = 'Profit'\n",
    "\n",
    "df_category_year = df.groupby(['Category', 'Order Year'])[eval_feature].sum().reset_index()\n",
    "\n",
    "categories = df_category_year['Category'].unique()\n",
    "\n",
    "# Create subplots (one for each segment)\n",
    "fig, axes = plt.subplots(nrows=1, ncols=len(categories), figsize=(13, 3))\n",
    "\n",
    "# Loop through each segment and plot its respective bar chart\n",
    "for ax, category in zip(axes, categories):\n",
    "\n",
    "    category_data = df_category_year[df_category_year['Category'] == category]\n",
    "    \n",
    "    sns.barplot(data=category_data, x='Order Year', y=eval_feature, ax=ax)\n",
    "    \n",
    "    ax.set_title(f'{eval_feature} by Year for Category {category}')\n",
    "    ax.set_xlabel('Year')\n",
    "    ax.set_ylabel(eval_feature)\n",
    "\n",
    "plt.tight_layout()"
   ]
  },
  {
   "cell_type": "markdown",
   "id": "40261c38",
   "metadata": {},
   "source": [
    "Conclusion: Office Suppliers and Technology grew year over year, but Furniture decreased significantly in 2015 and 2017. We need to analyse what was different in those years to identify the reason of profit loss."
   ]
  },
  {
   "cell_type": "code",
   "execution_count": null,
   "id": "d8735ae5",
   "metadata": {},
   "outputs": [],
   "source": [
    "# Product Sub-Category\n",
    "\n",
    "df_subcat = df.groupby(['Category', 'Sub-Category']).agg(\n",
    "    profit_sum=('Profit', 'sum'),\n",
    "    profit_mean=('Profit', 'mean'),\n",
    "    discount_mean=('Discount', 'mean'),\n",
    "    sales_sum=('Sales', 'sum'),\n",
    "    quantity_sum=('Quantity', 'sum'),\n",
    ").reset_index()\n",
    "\n",
    "df_subcat['profit_sum'] = df_subcat['profit_sum']/1000\n",
    "df_subcat['sales_sum'] = df_subcat['sales_sum']/1000\n",
    "df_subcat['quantity_sum'] = df_subcat['quantity_sum']/1000\n",
    "df_subcat['gross_margin'] = df_subcat['profit_sum'] / df_subcat['sales_sum']\n",
    "    \n",
    "df_subcat.sort_values(by='profit_sum')"
   ]
  },
  {
   "cell_type": "markdown",
   "id": "e5f90004",
   "metadata": {},
   "source": [
    "**INSIGHTS**:\n",
    "- Tables, Bookcases and Suppliers have negative profit.\n",
    "- Machines, Storage and Chairs have Gross Margin <10%\n",
    "- Tables, Bookcases, Machines and Binders have discount >20%"
   ]
  },
  {
   "cell_type": "code",
   "execution_count": null,
   "id": "d58083d5",
   "metadata": {},
   "outputs": [],
   "source": [
    "# Sub-Category evolution by year:\n",
    "\n",
    "eval_feature = 'Profit'\n",
    "\n",
    "df_subcat_year = df.groupby(['Sub-Category', 'Order Year'])[eval_feature].sum().reset_index()\n",
    "\n",
    "subcats = df_subcat_year['Sub-Category'].unique()\n",
    "\n",
    "# Create subplots (one for each segment)\n",
    "fig, axes = plt.subplots(nrows=5, ncols=4, figsize=(10, 13))\n",
    "\n",
    "axes = axes.flatten()\n",
    "\n",
    "# Loop through each segment and plot its respective bar chart\n",
    "for i, (ax, subcat) in enumerate(zip(axes, subcats)):\n",
    "\n",
    "    subcat_data = df_subcat_year[df_subcat_year['Sub-Category'] == subcat]\n",
    "    \n",
    "    sns.barplot(data=subcat_data, x='Order Year', y=eval_feature, ax=ax)\n",
    "    \n",
    "    ax.set_title(subcat)\n",
    "    ax.set_xlabel('Year')\n",
    "    ax.set_ylabel(eval_feature)\n",
    "    \n",
    "for j in range(i + 1, len(axes)):\n",
    "    axes[j].axis('off')\n",
    "        \n",
    "plt.tight_layout()"
   ]
  },
  {
   "cell_type": "markdown",
   "id": "b2fb3dd6",
   "metadata": {},
   "source": [
    "Conclusion: \n",
    "- Tables always had negative profit, this might be due to a wrong price policy\n",
    "- Bookcases only had positive profit in 2016 and then turned again negative\n",
    "- Suppliers had positive profit in 2014 but the following years it turned negative\n",
    "- Machines and Biners had negative profit only in 2017, this needs to be investigated"
   ]
  },
  {
   "cell_type": "code",
   "execution_count": null,
   "id": "d8bdc62f",
   "metadata": {},
   "outputs": [],
   "source": [
    "# Products\n",
    "\n",
    "df_prod = df.groupby(['Category', 'Sub-Category', 'Product PK', 'Product Name']).agg(\n",
    "    profit_sum=('Profit', 'sum'),\n",
    "    profit_mean=('Profit', 'mean'),\n",
    "    discount_mean=('Discount', 'mean'),\n",
    "    sales_sum=('Sales', 'sum'),\n",
    "    quantity_sum=('Quantity', 'sum'),\n",
    ").reset_index()\n",
    "\n",
    "df_prod['profit_sum'] = df_prod['profit_sum']/1000\n",
    "df_prod['sales_sum'] = df_prod['sales_sum']/1000\n",
    "df_prod['quantity_sum'] = df_prod['quantity_sum']/1000\n",
    "df_prod['gross_margin'] = df_prod['profit_sum'] / df_prod['sales_sum']\n",
    "\n",
    "df_prod = df_prod.sort_values(by='profit_sum', ascending = False)"
   ]
  },
  {
   "cell_type": "code",
   "execution_count": null,
   "id": "7051801e",
   "metadata": {},
   "outputs": [],
   "source": [
    "# Top10 Products:\n",
    "\n",
    "df_prod.head(10)"
   ]
  },
  {
   "cell_type": "code",
   "execution_count": null,
   "id": "940b7f96",
   "metadata": {},
   "outputs": [],
   "source": [
    "top_prod_lst = list(df_prod.head(10)['Product PK'])\n",
    "top_prod_lst"
   ]
  },
  {
   "cell_type": "code",
   "execution_count": null,
   "id": "51434bd9",
   "metadata": {},
   "outputs": [],
   "source": [
    "# Top10 products evolution by year:\n",
    "\n",
    "eval_feature = 'Profit'\n",
    "\n",
    "df_top_prod = df[df['Product PK'].isin(top_prod_lst)]\n",
    "\n",
    "top_prods = df_top_prod['Product Name'].unique()\n",
    "\n",
    "df_top_prod_year = df_top_prod.groupby(['Product Name', 'Order Year'])[eval_feature].sum().reset_index()\n",
    "\n",
    "# Create subplots (one for each segment)\n",
    "fig, axes = plt.subplots(nrows=3, ncols=4, figsize=(10, 10))\n",
    "\n",
    "axes = axes.flatten()\n",
    "\n",
    "# Loop through each segment and plot its respective bar chart\n",
    "for i, (ax, top_prod) in enumerate(zip(axes, top_prods)):\n",
    "\n",
    "    top_prod_data = df_top_prod_year[df_top_prod_year['Product Name'] == top_prod]\n",
    "    \n",
    "    sns.barplot(data=top_prod_data, x='Order Year', y=eval_feature, ax=ax)\n",
    "    \n",
    "    wrapped_title = textwrap.fill(top_prod, width=30)\n",
    "    \n",
    "    ax.set_title(wrapped_title, fontsize=10)\n",
    "    ax.set_xlabel('Year')\n",
    "    ax.set_ylabel(eval_feature)\n",
    "    \n",
    "for j in range(i + 1, len(axes)):\n",
    "    axes[j].axis('off')\n",
    "        \n",
    "plt.tight_layout()"
   ]
  },
  {
   "cell_type": "markdown",
   "id": "752db782",
   "metadata": {},
   "source": [
    "Conclusion: some products turned to negative Profit in the last year. We need to check Profit by Product by Year"
   ]
  },
  {
   "cell_type": "code",
   "execution_count": null,
   "id": "832a429c",
   "metadata": {},
   "outputs": [],
   "source": [
    "# Bottom10 Products:\n",
    "\n",
    "df_prod.tail(10)"
   ]
  },
  {
   "cell_type": "code",
   "execution_count": null,
   "id": "93ab83bf",
   "metadata": {},
   "outputs": [],
   "source": [
    "bottom_prod_lst = list(df_prod.tail(10)['Product PK'])\n",
    "bottom_prod_lst"
   ]
  },
  {
   "cell_type": "code",
   "execution_count": null,
   "id": "364125a2",
   "metadata": {},
   "outputs": [],
   "source": [
    "# Bottom10 products evolution by year:\n",
    "\n",
    "eval_feature = 'Profit'\n",
    "\n",
    "df_bottom_prod = df[df['Product PK'].isin(bottom_prod_lst)]\n",
    "\n",
    "bottom_prods = df_bottom_prod['Product Name'].unique()\n",
    "\n",
    "df_bottom_prod_year = df_bottom_prod.groupby(['Product Name', 'Order Year'])[eval_feature].sum().reset_index()\n",
    "\n",
    "# Create subplots (one for each segment)\n",
    "fig, axes = plt.subplots(nrows=3, ncols=4, figsize=(10, 10))\n",
    "\n",
    "axes = axes.flatten()\n",
    "\n",
    "# Loop through each segment and plot its respective bar chart\n",
    "for i, (ax, bottom_prod) in enumerate(zip(axes, bottom_prods)):\n",
    "\n",
    "    bottom_prod_data = df_bottom_prod_year[df_bottom_prod_year['Product Name'] == bottom_prod]\n",
    "    \n",
    "    sns.barplot(data=bottom_prod_data, x='Order Year', y=eval_feature, ax=ax)\n",
    "    \n",
    "    wrapped_title = textwrap.fill(bottom_prod, width=30)\n",
    "    \n",
    "    ax.set_title(wrapped_title, fontsize=10)\n",
    "    ax.set_xlabel('Year')\n",
    "    ax.set_ylabel(eval_feature)\n",
    "    \n",
    "for j in range(i + 1, len(axes)):\n",
    "    axes[j].axis('off')\n",
    "        \n",
    "plt.tight_layout()"
   ]
  },
  {
   "cell_type": "markdown",
   "id": "7f5c85a6",
   "metadata": {},
   "source": [
    "Conclusion: all bottom products had negative profit at least two years in a row."
   ]
  },
  {
   "cell_type": "code",
   "execution_count": null,
   "id": "124bf8d8",
   "metadata": {},
   "outputs": [],
   "source": [
    "# Customers\n",
    "\n",
    "df_customer = df.groupby(['Segment', 'Customer Name', 'Order Year']).agg(\n",
    "    profit_sum=('Profit', 'sum'),\n",
    "    profit_mean=('Profit', 'mean'),\n",
    "    discount_mean=('Discount', 'mean'),\n",
    "    sales_sum=('Sales', 'sum'),\n",
    "    quantity_sum=('Quantity', 'sum'),\n",
    ").reset_index()\n",
    "\n",
    "df_customer['profit_sum'] = df_customer['profit_sum']/1000\n",
    "df_customer['sales_sum'] = df_customer['sales_sum']/1000\n",
    "df_customer['quantity_sum'] = df_customer['quantity_sum']/1000\n",
    "df_customer['gross_margin'] = df_customer['profit_sum'] / df_customer['sales_sum']\n",
    "\n",
    "df_customer = df_customer.sort_values(by='profit_sum', ascending = False)\n",
    "\n",
    "df_customer"
   ]
  },
  {
   "cell_type": "code",
   "execution_count": null,
   "id": "0401ab9a",
   "metadata": {},
   "outputs": [],
   "source": [
    "df_customer_17 = df_customer[(df_customer['Order Year'] == 2017) & (df_customer['profit_sum'] < 0)]\n",
    "\n",
    "df_customer_17"
   ]
  },
  {
   "cell_type": "markdown",
   "id": "3135ea45",
   "metadata": {},
   "source": [
    "**INSIGHTS:** In 2017 there are 146 customers that generated negative profit. A common pattern seems to be that they buy with higher discount."
   ]
  },
  {
   "cell_type": "code",
   "execution_count": null,
   "id": "3f8a1316",
   "metadata": {},
   "outputs": [],
   "source": [
    "# Region\n",
    "\n",
    "df_region = df.groupby('Region').agg(\n",
    "    profit_sum=('Profit', 'sum'),\n",
    "    profit_mean=('Profit', 'mean'),\n",
    "    discount_mean=('Discount', 'mean'),\n",
    "    sales_sum=('Sales', 'sum'),\n",
    "    quantity_sum=('Quantity', 'sum'),\n",
    ").reset_index()\n",
    "\n",
    "df_region['profit_sum'] = df_region['profit_sum']/1000\n",
    "df_region['sales_sum'] = df_region['sales_sum']/1000\n",
    "df_region['quantity_sum'] = df_region['quantity_sum']/1000\n",
    "df_region['gross_margin'] = df_region['profit_sum'] / df_region['sales_sum']\n",
    "    \n",
    "df_region"
   ]
  },
  {
   "cell_type": "code",
   "execution_count": null,
   "id": "72f09cbf",
   "metadata": {},
   "outputs": [],
   "source": [
    "plt.figure(figsize=(3, 3))\n",
    "\n",
    "plt.pie(df_region['profit_sum'], labels=df_region['Region'], autopct='%1.1f%%', startangle=140, wedgeprops={'edgecolor': 'black'})\n",
    "\n",
    "plt.axis('equal')\n",
    "plt.title('Pie Chart Profit by Category')\n",
    "plt.tight_layout()"
   ]
  },
  {
   "cell_type": "markdown",
   "id": "76290ab0",
   "metadata": {},
   "source": [
    "**INSIGHTS:**\n",
    "- West and East are the reginos with the highest profit in value and margin.\n",
    "- Central region has the lowest Gross Margin"
   ]
  },
  {
   "cell_type": "code",
   "execution_count": null,
   "id": "9ec5e27c",
   "metadata": {},
   "outputs": [],
   "source": [
    "# State\n",
    "\n",
    "df_state = df.groupby(['Region', 'State']).agg(\n",
    "    profit_sum=('Profit', 'sum'),\n",
    "    profit_mean=('Profit', 'mean'),\n",
    "    discount_mean=('Discount', 'mean'),\n",
    "    sales_sum=('Sales', 'sum'),\n",
    "    quantity_sum=('Quantity', 'sum'),\n",
    ").reset_index()\n",
    "\n",
    "df_state['profit_sum'] = df_state['profit_sum']/1000\n",
    "df_state['sales_sum'] = df_state['sales_sum']/1000\n",
    "df_state['quantity_sum'] = df_state['quantity_sum']/1000\n",
    "df_state['gross_margin'] = df_state['profit_sum'] / df_state['sales_sum']\n",
    "    \n",
    "df_state = df_state.sort_values(by='profit_sum', ascending = False)\n",
    "\n",
    "df_state"
   ]
  },
  {
   "cell_type": "markdown",
   "id": "8360db90",
   "metadata": {},
   "source": [
    "**INSIGTS**:\n",
    "- There are 10 States where the business is not profitable. All of them with high discounts.\n",
    "- California and New York are clearly the states with the bigguest business share (150 thousand dollars)"
   ]
  },
  {
   "cell_type": "code",
   "execution_count": null,
   "id": "db3664a3",
   "metadata": {},
   "outputs": [],
   "source": [
    "# Profit by state and by region\n",
    "\n",
    "regions = df['Region'].unique()\n",
    "\n",
    "plt.figure(figsize=(15, 5))\n",
    "\n",
    "for i, region in enumerate(regions, start=1):\n",
    "    plt.subplot(1, 4, i)\n",
    "    \n",
    "    region_data = df[df['Region'] == region]\n",
    "    \n",
    "    profit_by_state = region_data.groupby('State')['Profit'].sum()\n",
    "    \n",
    "    profit_by_state.plot(kind='bar', color='skyblue')\n",
    "    \n",
    "    plt.title(f'Region: {region}')\n",
    "    plt.xlabel('State')\n",
    "    plt.ylabel('Profit')\n",
    "    plt.xticks(rotation=45, ha='right')\n",
    "    plt.ylim(top=80000, bottom=-20000)\n",
    "\n",
    "plt.tight_layout()\n",
    "plt.show()"
   ]
  },
  {
   "cell_type": "code",
   "execution_count": null,
   "id": "d4cb2af1",
   "metadata": {},
   "outputs": [],
   "source": [
    "# Profit by state, by region and product category\n",
    "\n",
    "grouped_data = df.groupby(['Region', 'State', 'Category'], as_index=False)['Profit'].sum()\n",
    "\n",
    "pivot_data = grouped_data.pivot_table(index=['Region', 'State'], columns='Category', values='Profit', aggfunc='sum', fill_value=0)\n",
    "\n",
    "plt.figure(figsize=(15, 6))\n",
    "\n",
    "regions = pivot_data.index.get_level_values('Region').unique()\n",
    "for i, region in enumerate(regions, start=1):\n",
    "    plt.subplot(1, 4, i)\n",
    "\n",
    "    region_data = pivot_data.xs(region, level='Region')\n",
    "\n",
    "    region_data.plot(kind='bar', stacked=True, ax=plt.gca(), width=0.8)\n",
    "    \n",
    "    plt.title(f'Region: {region}')\n",
    "    plt.xlabel('State')\n",
    "    plt.xticks(rotation=45, ha='right')\n",
    "    plt.yticks(rotation=45, ha='right')\n",
    "    plt.ylim(top=80000, bottom=-30000)\n",
    "\n",
    "plt.tight_layout()\n",
    "plt.show()"
   ]
  },
  {
   "cell_type": "markdown",
   "id": "dc4f0524",
   "metadata": {},
   "source": [
    "**INSIGHTS**:\n",
    "- In central region, Texas and Illinois have negative profit. Only tech delivers positive profit. By contrary, Michigan has positive profit and there also Office Suppliers and Furniture provide positive profit.\n",
    "\n",
    "- In the east, New York is clearly the best performer, especially selling Tech and Office Suppliers. On the other side, Ohio and Pennsylvania have negative profit in all product categories.\n",
    "\n",
    "- In south of US, the highest profit comes from Georgia and Virginia, while Florida, North Carolina and Tennessee have negative profit in all product categories.\n",
    "\n",
    "- In the West, California and Washington contribute the most to the overall profit. Although, Arizona and Colorado have negative profit in all product categories."
   ]
  },
  {
   "cell_type": "code",
   "execution_count": null,
   "id": "92f114c6",
   "metadata": {},
   "outputs": [],
   "source": [
    "# Hypotesys test:\n",
    "\n",
    "# Hº = the mean of list price for Furniture is equal by state\n",
    "\n",
    "\n",
    "furniture_df = df[df['Category'] == 'Furniture']\n",
    "\n",
    "states = furniture_df['State'].unique()\n",
    "\n",
    "price_by_state = [furniture_df[furniture_df['State'] == state]['List Price'] for state in states]\n",
    "\n",
    "# Perform ANOVA test\n",
    "f_stat, p_value = stats.f_oneway(*price_by_state)\n",
    "\n",
    "print(f\"F-statistic: {f_stat}\")\n",
    "print(f\"P-value: {p_value}\")\n",
    "\n",
    "# Interpret the result\n",
    "alpha = 0.05  # significance level\n",
    "if p_value < alpha:\n",
    "    print(\"Reject the null hypothesis: The mean 'List Price' is significantly different by State.\")\n",
    "else:\n",
    "    print(\"Fail to reject the null hypothesis: The mean 'List Price' is not significantly different by State.\")"
   ]
  },
  {
   "cell_type": "code",
   "execution_count": null,
   "id": "39fbebfd",
   "metadata": {},
   "outputs": [],
   "source": [
    "# Hypotesys test:\n",
    "\n",
    "# Hº = the mean of discount for Furniture is equal by state\n",
    "\n",
    "\n",
    "furniture_df = df[df['Category'] == 'Furniture']\n",
    "\n",
    "states = furniture_df['State'].unique()\n",
    "\n",
    "price_by_state = [furniture_df[furniture_df['State'] == state]['Discount'] for state in states]\n",
    "\n",
    "# Perform ANOVA test\n",
    "f_stat, p_value = stats.f_oneway(*price_by_state)\n",
    "\n",
    "print(f\"F-statistic: {f_stat}\")\n",
    "print(f\"P-value: {p_value}\")\n",
    "\n",
    "# Interpret the result\n",
    "alpha = 0.05  # significance level\n",
    "if p_value < alpha:\n",
    "    print(\"Reject the null hypothesis: The mean 'Discount' is significantly different by State.\")\n",
    "else:\n",
    "    print(\"Fail to reject the null hypothesis: The mean 'Discount' is not significantly different by State.\")"
   ]
  },
  {
   "cell_type": "code",
   "execution_count": null,
   "id": "bd05b559",
   "metadata": {},
   "outputs": [],
   "source": [
    "# Hypotesys test:\n",
    "\n",
    "# Hº = the mean of list price for Office Supplies is equal by state\n",
    "\n",
    "\n",
    "furniture_df = df[df['Category'] == 'Office Supplies']\n",
    "\n",
    "states = furniture_df['State'].unique()\n",
    "\n",
    "price_by_state = [furniture_df[furniture_df['State'] == state]['List Price'] for state in states]\n",
    "\n",
    "# Perform ANOVA test\n",
    "f_stat, p_value = stats.f_oneway(*price_by_state)\n",
    "\n",
    "print(f\"F-statistic: {f_stat}\")\n",
    "print(f\"P-value: {p_value}\")\n",
    "\n",
    "# Interpret the result\n",
    "alpha = 0.05  # significance level\n",
    "if p_value < alpha:\n",
    "    print(\"Reject the null hypothesis: The mean 'List Price' is significantly different by State.\")\n",
    "else:\n",
    "    print(\"Fail to reject the null hypothesis: The mean 'List Price' is not significantly different by State.\")"
   ]
  },
  {
   "cell_type": "code",
   "execution_count": null,
   "id": "6bc88abb",
   "metadata": {},
   "outputs": [],
   "source": [
    "# Hypotesys test:\n",
    "\n",
    "# Hº = the mean of discount for Office Supplies is equal by state\n",
    "\n",
    "\n",
    "furniture_df = df[df['Category'] == 'Office Supplies']\n",
    "\n",
    "states = furniture_df['State'].unique()\n",
    "\n",
    "price_by_state = [furniture_df[furniture_df['State'] == state]['Discount'] for state in states]\n",
    "\n",
    "# Perform ANOVA test\n",
    "f_stat, p_value = stats.f_oneway(*price_by_state)\n",
    "\n",
    "print(f\"F-statistic: {f_stat}\")\n",
    "print(f\"P-value: {p_value}\")\n",
    "\n",
    "# Interpret the result\n",
    "alpha = 0.05  # significance level\n",
    "if p_value < alpha:\n",
    "    print(\"Reject the null hypothesis: The mean 'Discount' is significantly different by State.\")\n",
    "else:\n",
    "    print(\"Fail to reject the null hypothesis: The mean 'Discount' is not significantly different by State.\")"
   ]
  },
  {
   "cell_type": "code",
   "execution_count": null,
   "id": "b6002211",
   "metadata": {},
   "outputs": [],
   "source": [
    "# Hypotesys test:\n",
    "\n",
    "# Hº = the mean of list price for Technology is equal by state\n",
    "\n",
    "\n",
    "furniture_df = df[df['Category'] == 'Technology']\n",
    "\n",
    "states = furniture_df['State'].unique()\n",
    "\n",
    "price_by_state = [furniture_df[furniture_df['State'] == state]['List Price'] for state in states]\n",
    "\n",
    "# Perform ANOVA test\n",
    "f_stat, p_value = stats.f_oneway(*price_by_state)\n",
    "\n",
    "print(f\"F-statistic: {f_stat}\")\n",
    "print(f\"P-value: {p_value}\")\n",
    "\n",
    "# Interpret the result\n",
    "alpha = 0.05  # significance level\n",
    "if p_value < alpha:\n",
    "    print(\"Reject the null hypothesis: The mean 'List Price' is significantly different by State.\")\n",
    "else:\n",
    "    print(\"Fail to reject the null hypothesis: The mean 'List Price' is not significantly different by State.\")"
   ]
  },
  {
   "cell_type": "code",
   "execution_count": null,
   "id": "5dd02904",
   "metadata": {},
   "outputs": [],
   "source": [
    "# Hypotesys test:\n",
    "\n",
    "# Hº = the mean of discount for Technology is equal by state\n",
    "\n",
    "\n",
    "furniture_df = df[df['Category'] == 'Technology']\n",
    "\n",
    "states = furniture_df['State'].unique()\n",
    "\n",
    "price_by_state = [furniture_df[furniture_df['State'] == state]['Discount'] for state in states]\n",
    "\n",
    "# Perform ANOVA test\n",
    "f_stat, p_value = stats.f_oneway(*price_by_state)\n",
    "\n",
    "print(f\"F-statistic: {f_stat}\")\n",
    "print(f\"P-value: {p_value}\")\n",
    "\n",
    "# Interpret the result\n",
    "alpha = 0.05  # significance level\n",
    "if p_value < alpha:\n",
    "    print(\"Reject the null hypothesis: The mean 'Discount' is significantly different by State.\")\n",
    "else:\n",
    "    print(\"Fail to reject the null hypothesis: The mean 'Discount' is not significantly different by State.\")"
   ]
  },
  {
   "cell_type": "markdown",
   "id": "e50a9024",
   "metadata": {},
   "source": [
    "**INSIGHTS:**\n",
    "- Furniture: both, list price and discount, are significantly different by state\n",
    "- Office Supplies & Technology: the list price is similar by state, but discount policy is significantly different"
   ]
  },
  {
   "cell_type": "markdown",
   "id": "575557e5",
   "metadata": {},
   "source": [
    "### Clustering"
   ]
  },
  {
   "cell_type": "code",
   "execution_count": null,
   "id": "b608a7c0",
   "metadata": {},
   "outputs": [],
   "source": [
    "def levels(x):\n",
    "    if x < 0:\n",
    "        return 'Low'\n",
    "    elif 0 <= x <= 28.66:\n",
    "        return 'Medium'\n",
    "    else:\n",
    "        return 'High'"
   ]
  },
  {
   "cell_type": "code",
   "execution_count": null,
   "id": "1f2449b5",
   "metadata": {},
   "outputs": [],
   "source": [
    "df['Profit Level'] = df['Profit'].apply(lambda row: levels(row))\n",
    "df.head()"
   ]
  },
  {
   "cell_type": "code",
   "execution_count": null,
   "id": "d8ca15aa",
   "metadata": {},
   "outputs": [],
   "source": [
    "df_high = df[df['Profit Level'] == 'High']\n",
    "df_medium = df[df['Profit Level'] == 'Medium']\n",
    "df_low = df[df['Profit Level'] == 'Low']\n",
    "\n",
    "print(f'Order items with high profit: {len(df_high)}')\n",
    "print(f'Order items with medium profit: {len(df_medium)}')\n",
    "print(f'Order items with low profit: {len(df_low)}')\n",
    "\n",
    "#df_high = df_high.drop('Profit Level', axis=1)\n",
    "\n",
    "#df_high"
   ]
  },
  {
   "cell_type": "code",
   "execution_count": null,
   "id": "4de680d3",
   "metadata": {},
   "outputs": [],
   "source": [
    "# Scatter plot - Profit vs Sales by Profit Level:\n",
    "\n",
    "plt.figure(figsize=(12, 10))\n",
    "sns.scatterplot(data=df, y='Profit', x='Sales', hue='Profit Level', palette='Set1', size='Discount',\n",
    "               sizes=(20, 120), edgecolor='black', linewidth=0.4, alpha=0.7)\n",
    "\n",
    "plt.title('Scatter plot of Profit vs Sales')\n",
    "plt.xlabel('Sales')\n",
    "plt.ylabel('Profit')\n",
    "plt.ylim(ymax=6000)\n",
    "plt.xlim(xmax=12000)\n",
    "\n",
    "plt.grid(True, linestyle='--', alpha=0.5) "
   ]
  },
  {
   "cell_type": "code",
   "execution_count": null,
   "id": "ddbcd63f",
   "metadata": {},
   "outputs": [],
   "source": [
    "# Plot KDE for Discount - High Profit\n",
    "\n",
    "plt.figure(figsize=(8, 3))\n",
    "sns.kdeplot(data=df_high, x='Discount', label='Discount', fill=True)\n",
    "\n",
    "plt.title('Distribution of Discounts and Sales')\n",
    "plt.xlabel('Discount %')\n",
    "plt.xticks(np.arange(0, 1, step=0.1))\n",
    "plt.ylabel('Density')\n",
    "plt.legend()\n",
    "plt.tight_layout()"
   ]
  },
  {
   "cell_type": "code",
   "execution_count": null,
   "id": "cb1ee876",
   "metadata": {},
   "outputs": [],
   "source": [
    "# Plot KDE for Discount - Medium Profit\n",
    "\n",
    "plt.figure(figsize=(8, 3))\n",
    "sns.kdeplot(data=df_medium, x='Discount', label='Discount', fill=True)\n",
    "\n",
    "plt.title('Distribution of Discounts and Sales')\n",
    "plt.xlabel('Discount %')\n",
    "plt.xticks(np.arange(0, 1, step=0.1))\n",
    "plt.ylabel('Density')\n",
    "plt.legend()\n",
    "plt.tight_layout()"
   ]
  },
  {
   "cell_type": "code",
   "execution_count": null,
   "id": "52d3d7a0",
   "metadata": {},
   "outputs": [],
   "source": [
    "# Plot KDE for Discount - Low Profit\n",
    "\n",
    "plt.figure(figsize=(8, 3))\n",
    "sns.kdeplot(data=df_low, x='Discount', label='Discount', fill=True)\n",
    "\n",
    "plt.title('Distribution of Discounts and Sales')\n",
    "plt.xlabel('Discount %')\n",
    "plt.xticks(np.arange(0, 1, step=0.1))\n",
    "plt.ylabel('Density')\n",
    "plt.legend()\n",
    "plt.tight_layout()"
   ]
  },
  {
   "cell_type": "markdown",
   "id": "59aef2af",
   "metadata": {},
   "source": [
    "**INSIGHTS**:\n",
    "- For High and Medium Profit, the most frequent discount is 0% or 20%\n",
    "- For Low or negative Profit, tere are two peacks in Discount Distribution: 10-50% and 50-90%"
   ]
  },
  {
   "cell_type": "code",
   "execution_count": null,
   "id": "e83c5ad2",
   "metadata": {},
   "outputs": [],
   "source": [
    "# Distribution by state\n",
    "\n",
    "# 1. Calculate the total profit by State\n",
    "df_by_state = df.groupby(['State', 'City']).agg(\n",
    "    Total_Profit=('Profit', 'sum'),\n",
    "    Total_Orders=('Order ID', 'count'))\n",
    "\n",
    "# 2. Calculate the probabilities of Profit Level by State\n",
    "probabilities = df.groupby(['State', 'City'])['Profit Level'].value_counts(normalize=True).unstack(fill_value=0)\n",
    "new_order = ['High', 'Medium', 'Low']\n",
    "probabilities = probabilities[new_order]\n",
    "\n",
    "# 3. Combine the total profit and probabilities into one DataFrame\n",
    "result = pd.concat([df_by_state, probabilities], axis=1).sort_values(by=['State', 'Total_Orders'], ascending=[True, False])\n",
    "\n",
    "result"
   ]
  },
  {
   "cell_type": "code",
   "execution_count": null,
   "id": "5aa9dd53",
   "metadata": {},
   "outputs": [],
   "source": [
    "result_ncarolina = result.loc['North Carolina']\n",
    "\n",
    "result_ncarolina"
   ]
  },
  {
   "cell_type": "markdown",
   "id": "cc971dde",
   "metadata": {},
   "source": [
    "Conclusion: within the same State, Cities have different patterns in terms of profit."
   ]
  },
  {
   "cell_type": "markdown",
   "id": "b62b2d3d",
   "metadata": {},
   "source": [
    "### Machine learning"
   ]
  },
  {
   "cell_type": "code",
   "execution_count": null,
   "id": "bbaf5ecf",
   "metadata": {},
   "outputs": [],
   "source": [
    "import umap\n",
    "from sklearn.preprocessing import LabelEncoder\n",
    "from sklearn.preprocessing import StandardScaler\n",
    "from sklearn.cluster import DBSCAN"
   ]
  },
  {
   "cell_type": "markdown",
   "id": "ced44ec2",
   "metadata": {},
   "source": [
    "#### Dimension reduction: UMAP"
   ]
  },
  {
   "cell_type": "code",
   "execution_count": null,
   "id": "0859561f",
   "metadata": {},
   "outputs": [],
   "source": [
    "df_umap = df_low[[x for x in df_low.columns if x != 'Profit']]\n",
    "target = np.array(df_low['Profit'])"
   ]
  },
  {
   "cell_type": "code",
   "execution_count": null,
   "id": "dbd1114f",
   "metadata": {
    "scrolled": true
   },
   "outputs": [],
   "source": [
    "# Label Encoding for categorical features\n",
    "\n",
    "cat_vars = cat_vars + ['Profit Level']\n",
    "\n",
    "label_encoder = LabelEncoder()\n",
    "\n",
    "for col in cat_vars:\n",
    "    df_umap.loc[:, col] = label_encoder.fit_transform(df_umap[col])\n",
    "    \n",
    "df_umap.head()"
   ]
  },
  {
   "cell_type": "code",
   "execution_count": null,
   "id": "85ab85f1",
   "metadata": {},
   "outputs": [],
   "source": [
    "# Scaling\n",
    "\n",
    "scaler = StandardScaler()\n",
    "\n",
    "df_scaled_umap = scaler.fit_transform(df_umap)\n",
    "\n",
    "#df_scaled_umap"
   ]
  },
  {
   "cell_type": "code",
   "execution_count": null,
   "id": "3ebacc2a",
   "metadata": {},
   "outputs": [],
   "source": [
    "# Train the reducer\n",
    "\n",
    "reducer = umap.UMAP(random_state=42, \n",
    "                    n_neighbors=5, \n",
    "                    min_dist=0,\n",
    "                    n_components=2,\n",
    "                    metric='euclidean')\n",
    "reducer.fit(df_scaled_umap)"
   ]
  },
  {
   "cell_type": "code",
   "execution_count": null,
   "id": "876b633c",
   "metadata": {},
   "outputs": [],
   "source": [
    "# Transform dataset into 2D shape\n",
    "\n",
    "embedding = reducer.transform(df_scaled_umap)\n",
    "\n",
    "embedding_df = pd.DataFrame(embedding)\n",
    "embedding_df"
   ]
  },
  {
   "cell_type": "markdown",
   "id": "77da2a76",
   "metadata": {},
   "source": [
    "#### Clustering: DBSCAN"
   ]
  },
  {
   "cell_type": "code",
   "execution_count": null,
   "id": "9e058082",
   "metadata": {},
   "outputs": [],
   "source": [
    "dbscan_c = DBSCAN(eps=0.5,\n",
    "                  min_samples=25).fit(embedding)\n",
    "\n",
    "dbscan_c"
   ]
  },
  {
   "cell_type": "code",
   "execution_count": null,
   "id": "bd5fb491",
   "metadata": {},
   "outputs": [],
   "source": [
    "fig, ax = plt.subplots(ncols=1, nrows=1, figsize=(13, 8))\n",
    "plt.scatter(embedding[:, 0], embedding[:, 1], c=dbscan_c.labels_, cmap='Spectral', s=5)\n",
    "plt.gca().set_aspect('equal', 'datalim')\n",
    "unique_labels = np.unique(dbscan_c.labels_)\n",
    "plt.colorbar(boundaries=np.arange(unique_labels.min() - 0.5, unique_labels.max() + 1.5, 1))\\\n",
    "    .set_ticks(np.arange(unique_labels.min(), unique_labels.max() + 1))\n",
    "plt.title('DBSCAN over the Superstore dataset', fontsize=24)"
   ]
  },
  {
   "cell_type": "code",
   "execution_count": null,
   "id": "6c27cf81",
   "metadata": {},
   "outputs": [],
   "source": [
    "check_emb_dbscan = pd.DataFrame({'Profit':target, 'Infered Labels':dbscan_c.labels_})\n",
    "unique_clusters = np.unique(dbscan_c.labels_)\n",
    "print(unique_clusters)\n",
    "print(f'Total clusters infered: {len(unique_clusters)}')\n",
    "check_emb_dbscan"
   ]
  },
  {
   "cell_type": "code",
   "execution_count": null,
   "id": "f0fab756",
   "metadata": {},
   "outputs": [],
   "source": [
    "df_low_cat = pd.merge(df_low, check_emb_dbscan)\n",
    "\n",
    "df_low_cat.head()"
   ]
  },
  {
   "cell_type": "code",
   "execution_count": null,
   "id": "5cabb872",
   "metadata": {},
   "outputs": [],
   "source": [
    "df_low_cat['Infered Labels'].value_counts()"
   ]
  },
  {
   "cell_type": "code",
   "execution_count": null,
   "id": "100dfd34",
   "metadata": {},
   "outputs": [],
   "source": [
    "df_levels = df_low_cat.groupby('Infered Labels').agg(\n",
    "    profit_sum=('Profit', 'sum'),\n",
    "    profit_mean=('Profit', 'mean'),\n",
    "    discount_mean=('Discount', 'mean'),\n",
    "    sales_sum=('Sales', 'sum'),\n",
    "    quantity_sum=('Quantity', 'sum'),\n",
    ").reset_index()\n",
    "\n",
    "df_levels['profit_sum'] = df_levels['profit_sum']/1000\n",
    "df_levels['sales_sum'] = df_levels['sales_sum']/1000\n",
    "df_levels['quantity_sum'] = df_levels['quantity_sum']/1000\n",
    "df_levels['gross_margin'] = df_levels['profit_sum'] / df_levels['sales_sum']\n",
    "    \n",
    "df_levels = df_levels.sort_values(by='profit_sum', ascending = False)\n",
    "\n",
    "df_levels.sort_values(by='Infered Labels')"
   ]
  },
  {
   "cell_type": "code",
   "execution_count": null,
   "id": "7a50ee76",
   "metadata": {},
   "outputs": [],
   "source": [
    "# Lets have a close look at the categories with the biggest profit loss (almost -100M profit): -1, 5 and 7. \n",
    "\n",
    "df_low_catm1 = df_low_cat[df_low_cat['Infered Labels'] == -1]\n",
    "df_low_cat4 = df_low_cat[df_low_cat['Infered Labels'] == 4]\n",
    "df_low_cat6 = df_low_cat[df_low_cat['Infered Labels'] == 6]\n",
    "\n",
    "#df_low_cat0.head()"
   ]
  },
  {
   "cell_type": "code",
   "execution_count": null,
   "id": "c79c9457",
   "metadata": {},
   "outputs": [],
   "source": [
    "\n",
    "fig, axes = plt.subplots(3, 1, figsize=(6, 18))\n",
    "\n",
    "sns.scatterplot(data=df_low_catm1, y='Profit', x='Sales', hue='Category', palette='Set1', size='Discount',\n",
    "               sizes=(20, 120), edgecolor='black', linewidth=0.4, alpha=0.7, ax=axes[0])\n",
    "\n",
    "axes[0].set_title('Label -1')\n",
    "axes[0].set_xlabel('Sales')\n",
    "axes[0].set_ylabel('Profit')\n",
    "axes[0].grid(True, linestyle='--', alpha=0.5)\n",
    "\n",
    "sns.scatterplot(data=df_low_cat4, y='Profit', x='Sales', hue='Category', palette='Set1', size='Discount',\n",
    "               sizes=(20, 120), edgecolor='black', linewidth=0.4, alpha=0.7, ax=axes[1])\n",
    "\n",
    "axes[1].set_title('Label 4')\n",
    "axes[1].set_xlabel('Sales')\n",
    "axes[1].set_ylabel('Profit')\n",
    "axes[1].grid(True, linestyle='--', alpha=0.5)\n",
    "\n",
    "sns.scatterplot(data=df_low_cat6, y='Profit', x='Sales', hue='Category', palette='Set1', size='Discount',\n",
    "               sizes=(20, 120), edgecolor='black', linewidth=0.4, alpha=0.7, ax=axes[2])\n",
    "\n",
    "axes[2].set_title('Label 6')\n",
    "axes[2].set_xlabel('Sales')\n",
    "axes[2].set_ylabel('Profit')\n",
    "axes[2].grid(True, linestyle='--', alpha=0.5)\n",
    "\n",
    "\n",
    "plt.tight_layout()"
   ]
  },
  {
   "cell_type": "code",
   "execution_count": null,
   "id": "3283672f",
   "metadata": {},
   "outputs": [],
   "source": [
    "\n",
    "fig, axes = plt.subplots(3, 1, figsize=(6, 18))\n",
    "\n",
    "sns.scatterplot(data=df_low_catm1, y='Profit', x='Sales', hue='State', palette='Set1', size='Discount',\n",
    "               sizes=(20, 120), edgecolor='black', linewidth=0.4, alpha=0.7, ax=axes[0])\n",
    "\n",
    "axes[0].set_title('Label -1')\n",
    "axes[0].set_xlabel('Sales')\n",
    "axes[0].set_ylabel('Profit')\n",
    "axes[0].grid(True, linestyle='--', alpha=0.5)\n",
    "\n",
    "sns.scatterplot(data=df_low_cat4, y='Profit', x='Sales', hue='State', palette='Set1', size='Discount',\n",
    "               sizes=(20, 120), edgecolor='black', linewidth=0.4, alpha=0.7, ax=axes[1])\n",
    "\n",
    "axes[1].set_title('Label 4')\n",
    "axes[1].set_xlabel('Sales')\n",
    "axes[1].set_ylabel('Profit')\n",
    "axes[1].grid(True, linestyle='--', alpha=0.5)\n",
    "\n",
    "sns.scatterplot(data=df_low_cat6, y='Profit', x='Sales', hue='State', palette='Set1', size='Discount',\n",
    "               sizes=(20, 120), edgecolor='black', linewidth=0.4, alpha=0.7, ax=axes[2])\n",
    "\n",
    "axes[2].set_title('Label 6')\n",
    "axes[2].set_xlabel('Sales')\n",
    "axes[2].set_ylabel('Profit')\n",
    "axes[2].grid(True, linestyle='--', alpha=0.5)\n",
    "\n",
    "\n",
    "plt.tight_layout()\n"
   ]
  },
  {
   "cell_type": "code",
   "execution_count": null,
   "id": "d8677de9",
   "metadata": {},
   "outputs": [],
   "source": [
    "\n",
    "fig, axes = plt.subplots(3, 1, figsize=(6, 18))\n",
    "\n",
    "sns.scatterplot(data=df_low_catm1, y='Profit', x='Sales', hue='Sub-Category', palette='Set1', size='Discount',\n",
    "               sizes=(20, 120), edgecolor='black', linewidth=0.4, alpha=0.7, ax=axes[0])\n",
    "\n",
    "axes[0].set_title('Label -1')\n",
    "axes[0].set_xlabel('Sales')\n",
    "axes[0].set_ylabel('Profit')\n",
    "axes[0].grid(True, linestyle='--', alpha=0.5)\n",
    "\n",
    "sns.scatterplot(data=df_low_cat4, y='Profit', x='Sales', hue='Sub-Category', palette='Set1', size='Discount',\n",
    "               sizes=(20, 120), edgecolor='black', linewidth=0.4, alpha=0.7, ax=axes[1])\n",
    "\n",
    "axes[1].set_title('Label 4')\n",
    "axes[1].set_xlabel('Sales')\n",
    "axes[1].set_ylabel('Profit')\n",
    "axes[1].grid(True, linestyle='--', alpha=0.5)\n",
    "\n",
    "sns.scatterplot(data=df_low_cat6, y='Profit', x='Sales', hue='Sub-Category', palette='Set1', size='Discount',\n",
    "               sizes=(20, 120), edgecolor='black', linewidth=0.4, alpha=0.7, ax=axes[2])\n",
    "\n",
    "axes[2].set_title('Label 6')\n",
    "axes[2].set_xlabel('Sales')\n",
    "axes[2].set_ylabel('Profit')\n",
    "axes[2].grid(True, linestyle='--', alpha=0.5)\n",
    "\n",
    "\n",
    "plt.tight_layout()\n"
   ]
  },
  {
   "cell_type": "markdown",
   "id": "5d873220",
   "metadata": {},
   "source": [
    "**INSIGHTS**:\n",
    "- Label -1: avg. discount 30%-70%, mainly Office - Binders (Texas) and Tech - Machines (Ohio)\n",
    "- Label 4: avg. discount 30%-45%, mainly Furniture - All product categories (Illinois & Texas)\n",
    "- Label 6: avg. discount 20-60%, mainly Technology - Phones & Machines (Ohio)\n",
    "\n",
    "**Conclusion**: as next step we need to identify differences between these clusters and the rest of the dataset where the same filters deliver positive profit."
   ]
  }
 ],
 "metadata": {
  "celltoolbar": "Slideshow",
  "kernelspec": {
   "display_name": "Python [conda env:umap_env]",
   "language": "python",
   "name": "conda-env-umap_env-py"
  },
  "language_info": {
   "codemirror_mode": {
    "name": "ipython",
    "version": 3
   },
   "file_extension": ".py",
   "mimetype": "text/x-python",
   "name": "python",
   "nbconvert_exporter": "python",
   "pygments_lexer": "ipython3",
   "version": "3.9.21"
  }
 },
 "nbformat": 4,
 "nbformat_minor": 5
}
